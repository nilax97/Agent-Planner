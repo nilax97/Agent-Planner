{
 "cells": [
  {
   "cell_type": "code",
   "execution_count": null,
   "metadata": {},
   "outputs": [],
   "source": []
  },
  {
   "cell_type": "code",
   "execution_count": 3,
   "metadata": {},
   "outputs": [],
   "source": [
    "import json"
   ]
  },
  {
   "cell_type": "code",
   "execution_count": 1,
   "metadata": {},
   "outputs": [
    {
     "name": "stdout",
     "output_type": "stream",
     "text": [
      "floor 0\n",
      "walls 1\n",
      "ledge 2\n",
      "door 3\n",
      "fridge_back 4\n",
      "fridge 5\n",
      "cupboard_back 6\n",
      "cupboard 7\n",
      "husky 8\n",
      "ur5 9\n",
      "table 10\n",
      "table2 11\n",
      "couch 12\n",
      "big-tray 13\n",
      "book 14\n",
      "paper 15\n",
      "paper2 16\n",
      "cube_gray 17\n",
      "cube_green 18\n",
      "cube_red 19\n",
      "tray 20\n",
      "tray2 21\n",
      "light 22\n",
      "box 23\n",
      "apple 24\n",
      "orange 25\n",
      "banana 26\n",
      "chair 27\n",
      "ball 28\n",
      "stick 29\n",
      "dumpster 30\n",
      "milk 31\n",
      "shelf 32\n",
      "The world file is jsons/home_worlds/world_home0.json\n",
      "{'floor': 0, 'walls': 1, 'ledge': 2, 'door': 3, 'fridge_back': 4, 'fridge': 5, 'cupboard_back': 6, 'cupboard': 7, 'husky': 8, 'ur5': 9, 'table': 10, 'table2': 11, 'couch': 12, 'big-tray': 13, 'book': 14, 'paper': 15, 'paper2': 16, 'cube_gray': 17, 'cube_green': 18, 'cube_red': 19, 'tray': 20, 'tray2': 21, 'light': 22, 'box': 23, 'apple': 24, 'orange': 25, 'banana': 26, 'chair': 27, 'ball': 28, 'stick': 29, 'dumpster': 30, 'milk': 31, 'shelf': 32}\n",
      "{}\n",
      "{}\n",
      "{'grabbed': '', 'fridge': 'Close', 'cupboard': 'Close', 'inside': [], 'on': [('apple', 'table2'), ('apple', 'tray2'), ('orange', 'table2'), ('banana', 'table2'), ('banana', 'tray2'), ('tray', 'table'), ('tray2', 'table2')], 'close': []}\n"
     ]
    },
    {
     "data": {
      "image/png": "[encoded data removed]",
      "text/plain": [
       "<Figure size 432x288 with 1 Axes>"
      ]
     },
     "metadata": {
      "needs_background": "light"
     },
     "output_type": "display_data"
    },
    {
     "data": {
      "image/png": "[encoded data removed]",
      "text/plain": [
       "<Figure size 576x432 with 1 Axes>"
      ]
     },
     "metadata": {
      "needs_background": "light"
     },
     "output_type": "display_data"
    }
   ],
   "source": [
    "from environment import *"
   ]
  },
  {
   "cell_type": "code",
   "execution_count": 2,
   "metadata": {},
   "outputs": [
    {
     "data": {
      "text/plain": [
       "{'grabbed': '',\n",
       " 'fridge': 'Close',\n",
       " 'cupboard': 'Close',\n",
       " 'inside': [],\n",
       " 'on': [('apple', 'table2'),\n",
       "  ('apple', 'tray2'),\n",
       "  ('orange', 'table2'),\n",
       "  ('banana', 'table2'),\n",
       "  ('banana', 'tray2'),\n",
       "  ('tray', 'table'),\n",
       "  ('tray2', 'table2')],\n",
       " 'close': []}"
      ]
     },
     "execution_count": 2,
     "metadata": {},
     "output_type": "execute_result"
    }
   ],
   "source": [
    "state"
   ]
  },
  {
   "cell_type": "code",
   "execution_count": 8,
   "metadata": {},
   "outputs": [],
   "source": []
  },
  {
   "cell_type": "code",
   "execution_count": 4,
   "metadata": {},
   "outputs": [
    {
     "data": {
      "text/plain": [
       "{'goals': [{'object': 'apple',\n",
       "   'target': 'table',\n",
       "   'state': '',\n",
       "   'position': '',\n",
       "   'tolerance': 0}],\n",
       " 'text': 'Apple on table.'}"
      ]
     },
     "execution_count": 4,
     "metadata": {},
     "output_type": "execute_result"
    }
   ],
   "source": [
    "json.load(open('jsons/home_goals/goal0.json'))"
   ]
  },
  {
   "cell_type": "code",
   "execution_count": 5,
   "metadata": {},
   "outputs": [
    {
     "data": {
      "text/plain": [
       "{'goals': [{'object': 'apple',\n",
       "   'target': 'box',\n",
       "   'state': '',\n",
       "   'position': '',\n",
       "   'tolerance': 0},\n",
       "  {'object': 'orange',\n",
       "   'target': 'box',\n",
       "   'state': '',\n",
       "   'position': '',\n",
       "   'tolerance': 0},\n",
       "  {'object': 'banana',\n",
       "   'target': 'box',\n",
       "   'state': '',\n",
       "   'position': '',\n",
       "   'tolerance': 0}],\n",
       " 'text': 'Put fruits in box.'}"
      ]
     },
     "execution_count": 5,
     "metadata": {},
     "output_type": "execute_result"
    }
   ],
   "source": [
    "json.load(open('jsons/home_goals/goal1.json'))"
   ]
  },
  {
   "cell_type": "code",
   "execution_count": 6,
   "metadata": {},
   "outputs": [
    {
     "data": {
      "text/plain": [
       "{'goals': [{'object': 'apple',\n",
       "   'target': 'fridge',\n",
       "   'state': '',\n",
       "   'position': '',\n",
       "   'tolerance': 0}],\n",
       " 'text': 'Apple in fridge.'}"
      ]
     },
     "execution_count": 6,
     "metadata": {},
     "output_type": "execute_result"
    }
   ],
   "source": [
    "json.load(open('jsons/home_goals/goal2.json'))"
   ]
  },
  {
   "cell_type": "code",
   "execution_count": 7,
   "metadata": {},
   "outputs": [
    {
     "data": {
      "text/plain": [
       "{'goals': [{'object': 'apple',\n",
       "   'target': 'fridge',\n",
       "   'state': '',\n",
       "   'position': '',\n",
       "   'tolerance': 1.5},\n",
       "  {'object': 'orange',\n",
       "   'target': 'fridge',\n",
       "   'state': '',\n",
       "   'position': '',\n",
       "   'tolerance': 1.5},\n",
       "  {'object': 'banana',\n",
       "   'target': 'fridge',\n",
       "   'state': '',\n",
       "   'position': '',\n",
       "   'tolerance': 1.5},\n",
       "  {'object': 'fridge',\n",
       "   'target': '',\n",
       "   'state': 'close',\n",
       "   'position': '',\n",
       "   'tolerance': 0}],\n",
       " 'text': 'Put all the fruits inside the fridge and keep fridge closed.'}"
      ]
     },
     "execution_count": 7,
     "metadata": {},
     "output_type": "execute_result"
    }
   ],
   "source": [
    "json.load(open('jsons/home_goals/goal3.json'))"
   ]
  },
  {
   "cell_type": "code",
   "execution_count": 8,
   "metadata": {},
   "outputs": [
    {
     "data": {
      "text/plain": [
       "{'entities': [{'name': 'floor',\n",
       "   'position': [1, 0, -0.1],\n",
       "   'orientation': [],\n",
       "   'states': {}},\n",
       "  {'name': 'walls', 'position': [0, 0, 0], 'orientation': [], 'states': {}},\n",
       "  {'name': 'ledge',\n",
       "   'position': [3.5, 0, 1.8],\n",
       "   'orientation': [],\n",
       "   'states': {}},\n",
       "  {'name': 'door',\n",
       "   'position': [3.4, 4, 0],\n",
       "   'orientation': [],\n",
       "   'states': {'close': [[3.4, 4, 0], [0, 0, 0]],\n",
       "    'open': [[3.9, 4.4, 0], [0, 0, 1.57]]}},\n",
       "  {'name': 'fridge_back',\n",
       "   'position': [-2.5, 4.7, 0],\n",
       "   'orientation': [],\n",
       "   'states': {},\n",
       "   'ignore': 'true'},\n",
       "  {'name': 'fridge',\n",
       "   'position': [-2.5, 4.2, 0],\n",
       "   'orientation': [],\n",
       "   'states': {'close': [[-2.5, 4.2, 0], [0, 0, 0]],\n",
       "    'open': [[-2.9, 3.9, 0], [0, 0, -1.57]]}},\n",
       "  {'name': 'cupboard_back',\n",
       "   'position': [-2.5, -4.7, 0],\n",
       "   'orientation': [],\n",
       "   'states': {},\n",
       "   'ignore': 'true'},\n",
       "  {'name': 'cupboard',\n",
       "   'position': [-2.5, -4.2, 0],\n",
       "   'orientation': [],\n",
       "   'states': {'close': [[-2.5, -4.2, 0], [0, 0, 0]],\n",
       "    'open': [[-3, -3.8, 0], [0, 0, 1.57]]}},\n",
       "  {'name': 'husky',\n",
       "   'position': [0, 0, 0.1],\n",
       "   'orientation': [0, 0, 0, 0.1],\n",
       "   'states': {},\n",
       "   'ignore': 'true'},\n",
       "  {'name': 'ur5',\n",
       "   'position': [0, 0, 0.320208],\n",
       "   'orientation': [],\n",
       "   'states': {},\n",
       "   'ignore': 'true'},\n",
       "  {'name': 'table',\n",
       "   'position': [0, 4.5, 0],\n",
       "   'orientation': [],\n",
       "   'states': {},\n",
       "   'rename': 'bigger_table'},\n",
       "  {'name': 'table2',\n",
       "   'position': [-1, -4.5, 0],\n",
       "   'orientation': [],\n",
       "   'states': [],\n",
       "   'rename': 'smaller_table'},\n",
       "  {'name': 'couch', 'position': [2.5, -3, 0], 'orientation': [], 'states': []},\n",
       "  {'name': 'big-tray',\n",
       "   'position': [2.5, 1.2, 0],\n",
       "   'orientation': [],\n",
       "   'states': []},\n",
       "  {'name': 'book', 'position': [0, 4.2, 0.7], 'orientation': [], 'states': []},\n",
       "  {'name': 'paper',\n",
       "   'position': [-1.4, -4.4, 0.8],\n",
       "   'orientation': [],\n",
       "   'states': {'stuck': [[-3, 3, 1],\n",
       "     [-1.57079632679, 1.57079632679, 1.57079632679]]}},\n",
       "  {'name': 'paper2',\n",
       "   'position': [-1.4, -4.4, 0.7],\n",
       "   'orientation': [],\n",
       "   'states': {'stuck': [[-3, 3, 1],\n",
       "     [-1.57079632679, 1.57079632679, 1.57079632679]]}},\n",
       "  {'name': 'cube_gray',\n",
       "   'position': [-0.5, 4.2, 0.7],\n",
       "   'orientation': [],\n",
       "   'states': [],\n",
       "   'rename': 'cube_gray'},\n",
       "  {'name': 'cube_green',\n",
       "   'position': [-0.5, 4.3, 0.7],\n",
       "   'orientation': [],\n",
       "   'states': [],\n",
       "   'rename': 'cube_green'},\n",
       "  {'name': 'cube_red',\n",
       "   'position': [-0.5, 4.4, 0.7],\n",
       "   'orientation': [],\n",
       "   'states': [],\n",
       "   'rename': 'cube_red'},\n",
       "  {'name': 'tray',\n",
       "   'position': [0.5, 4.5, 0.7],\n",
       "   'orientation': [],\n",
       "   'states': []},\n",
       "  {'name': 'tray2',\n",
       "   'position': [-0.5, -4.5, 0.7],\n",
       "   'orientation': [],\n",
       "   'states': []},\n",
       "  {'name': 'light',\n",
       "   'position': [2, 4.9, 0.5],\n",
       "   'orientation': [],\n",
       "   'states': []},\n",
       "  {'name': 'box', 'position': [-3, 0, 0], 'orientation': [], 'states': []},\n",
       "  {'name': 'apple',\n",
       "   'position': [-1, -4.5, 0.7],\n",
       "   'orientation': [],\n",
       "   'states': []},\n",
       "  {'name': 'orange',\n",
       "   'position': [-1, -4.7, 0.7],\n",
       "   'orientation': [],\n",
       "   'states': []},\n",
       "  {'name': 'banana',\n",
       "   'position': [-1, -4.3, 0.75],\n",
       "   'orientation': [],\n",
       "   'states': []},\n",
       "  {'name': 'chair',\n",
       "   'position': [1.1, 4.5, 0.1],\n",
       "   'orientation': [],\n",
       "   'states': []},\n",
       "  {'name': 'ball', 'position': [-3, 2, 0.2], 'orientation': [], 'states': []},\n",
       "  {'name': 'stick',\n",
       "   'position': [2.7, 0, 0.2],\n",
       "   'orientation': [],\n",
       "   'states': []},\n",
       "  {'name': 'dumpster',\n",
       "   'position': [4.5, 3.8, 0],\n",
       "   'orientation': [],\n",
       "   'states': []},\n",
       "  {'name': 'milk',\n",
       "   'position': [-2.5, 4.5, 1.3],\n",
       "   'orientation': [],\n",
       "   'states': []},\n",
       "  {'name': 'shelf', 'position': [2.9, 3, 0], 'orientation': [], 'states': []}]}"
      ]
     },
     "execution_count": 8,
     "metadata": {},
     "output_type": "execute_result"
    }
   ],
   "source": [
    "json.load(open(args.world))"
   ]
  },
  {
   "cell_type": "code",
   "execution_count": null,
   "metadata": {},
   "outputs": [],
   "source": []
  },
  {
   "cell_type": "code",
   "execution_count": 16,
   "metadata": {},
   "outputs": [
    {
     "name": "stdout",
     "output_type": "stream",
     "text": [
      "{}\n"
     ]
    },
    {
     "data": {
      "text/plain": [
       "{'grabbed': '',\n",
       " 'fridge': 'Close',\n",
       " 'cupboard': 'Close',\n",
       " 'inside': [],\n",
       " 'on': [('apple', 'table2'),\n",
       "  ('orange', 'table2'),\n",
       "  ('banana', 'table2'),\n",
       "  ('tray', 'table'),\n",
       "  ('tray2', 'table2')],\n",
       " 'close': []}"
      ]
     },
     "execution_count": 16,
     "metadata": {},
     "output_type": "execute_result"
    }
   ],
   "source": [
    "getCurrentState()"
   ]
  },
  {
   "cell_type": "code",
   "execution_count": 17,
   "metadata": {},
   "outputs": [
    {
     "data": {
      "text/plain": [
       "{'goals': [{'object': 'apple',\n",
       "   'target': 'table',\n",
       "   'state': '',\n",
       "   'position': '',\n",
       "   'tolerance': 0}],\n",
       " 'text': 'Apple on table.'}"
      ]
     },
     "execution_count": 17,
     "metadata": {},
     "output_type": "execute_result"
    }
   ],
   "source": [
    "json.load(open(args.goal))"
   ]
  },
  {
   "cell_type": "code",
   "execution_count": null,
   "metadata": {},
   "outputs": [],
   "source": []
  }
 ],
 "metadata": {
  "kernelspec": {
   "display_name": "Python 3",
   "language": "python",
   "name": "python3"
  },
  "language_info": {
   "codemirror_mode": {
    "name": "ipython",
    "version": 3
   },
   "file_extension": ".py",
   "mimetype": "text/x-python",
   "name": "python",
   "nbconvert_exporter": "python",
   "pygments_lexer": "ipython3",
   "version": "3.7.7"
  }
 },
 "nbformat": 4,
 "nbformat_minor": 4
}
