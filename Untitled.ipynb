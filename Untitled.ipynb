{
 "cells": [
  {
   "cell_type": "code",
   "execution_count": 1,
   "metadata": {
    "scrolled": true
   },
   "outputs": [
    {
     "name": "stdout",
     "output_type": "stream",
     "text": [
      "floor 0\n",
      "walls 1\n",
      "ledge 2\n",
      "door 3\n",
      "fridge_back 4\n",
      "fridge 5\n",
      "cupboard_back 6\n",
      "cupboard 7\n",
      "husky 8\n",
      "ur5 9\n",
      "table 10\n",
      "table2 11\n",
      "couch 12\n",
      "big-tray 13\n",
      "book 14\n",
      "paper 15\n",
      "paper2 16\n",
      "cube_gray 17\n",
      "cube_green 18\n",
      "cube_red 19\n",
      "tray 20\n",
      "tray2 21\n",
      "light 22\n",
      "box 23\n",
      "apple 24\n",
      "orange 25\n",
      "banana 26\n",
      "chair 27\n",
      "ball 28\n",
      "stick 29\n",
      "dumpster 30\n",
      "milk 31\n",
      "shelf 32\n",
      "The world file is jsons/home_worlds/world_home0.json\n",
      "{'floor': 0, 'walls': 1, 'ledge': 2, 'door': 3, 'fridge_back': 4, 'fridge': 5, 'cupboard_back': 6, 'cupboard': 7, 'husky': 8, 'ur5': 9, 'table': 10, 'table2': 11, 'couch': 12, 'big-tray': 13, 'book': 14, 'paper': 15, 'paper2': 16, 'cube_gray': 17, 'cube_green': 18, 'cube_red': 19, 'tray': 20, 'tray2': 21, 'light': 22, 'box': 23, 'apple': 24, 'orange': 25, 'banana': 26, 'chair': 27, 'ball': 28, 'stick': 29, 'dumpster': 30, 'milk': 31, 'shelf': 32}\n",
      "{}\n",
      "{}\n",
      "{'grabbed': '', 'fridge': 'Close', 'cupboard': 'Close', 'inside': [], 'on': [('apple', 'table2'), ('orange', 'table2'), ('banana', 'table2'), ('banana', 'tray2'), ('tray', 'table'), ('tray2', 'table2')], 'close': []}\n"
     ]
    },
    {
     "data": {
      "image/png": "[encoded data removed]",
      "text/plain": [
       "<Figure size 432x288 with 1 Axes>"
      ]
     },
     "metadata": {
      "needs_background": "light"
     },
     "output_type": "display_data"
    },
    {
     "data": {
      "image/png": "[encoded data removed]",
      "text/plain": [
       "<Figure size 576x432 with 1 Axes>"
      ]
     },
     "metadata": {
      "needs_background": "light"
     },
     "output_type": "display_data"
    }
   ],
   "source": [
    "import json\n",
    "from environment import *"
   ]
  },
  {
   "cell_type": "code",
   "execution_count": null,
   "metadata": {
    "scrolled": true
   },
   "outputs": [],
   "source": []
  },
  {
   "cell_type": "code",
   "execution_count": null,
   "metadata": {
    "scrolled": true
   },
   "outputs": [],
   "source": [
    "state"
   ]
  },
  {
   "cell_type": "code",
   "execution_count": null,
   "metadata": {
    "scrolled": true
   },
   "outputs": [],
   "source": [
    "state"
   ]
  },
  {
   "cell_type": "code",
   "execution_count": 2,
   "metadata": {
    "scrolled": true
   },
   "outputs": [
    {
     "ename": "TypeError",
     "evalue": "checkGoal() missing 5 required positional arguments: 'constraints', 'states', 'id_lookup', 'light', and 'dirtClean'",
     "output_type": "error",
     "traceback": [
      "\u001b[0;31m---------------------------------------------------------------------------\u001b[0m",
      "\u001b[0;31mTypeError\u001b[0m                                 Traceback (most recent call last)",
      "\u001b[0;32m<ipython-input-2-6bbc0743d496>\u001b[0m in \u001b[0;36m<module>\u001b[0;34m\u001b[0m\n\u001b[0;32m----> 1\u001b[0;31m \u001b[0mcheckGoal\u001b[0m\u001b[0;34m(\u001b[0m\u001b[0mstate\u001b[0m\u001b[0;34m)\u001b[0m\u001b[0;34m\u001b[0m\u001b[0;34m\u001b[0m\u001b[0m\n\u001b[0m",
      "\u001b[0;31mTypeError\u001b[0m: checkGoal() missing 5 required positional arguments: 'constraints', 'states', 'id_lookup', 'light', and 'dirtClean'"
     ]
    }
   ],
   "source": [
    "checkGoal(state)"
   ]
  },
  {
   "cell_type": "code",
   "execution_count": null,
   "metadata": {
    "scrolled": true
   },
   "outputs": [],
   "source": []
  },
  {
   "cell_type": "code",
   "execution_count": null,
   "metadata": {
    "scrolled": true
   },
   "outputs": [],
   "source": []
  },
  {
   "cell_type": "code",
   "execution_count": null,
   "metadata": {
    "scrolled": true
   },
   "outputs": [],
   "source": []
  },
  {
   "cell_type": "code",
   "execution_count": null,
   "metadata": {
    "scrolled": true
   },
   "outputs": [],
   "source": []
  },
  {
   "cell_type": "code",
   "execution_count": null,
   "metadata": {
    "scrolled": true
   },
   "outputs": [],
   "source": []
  },
  {
   "cell_type": "code",
   "execution_count": null,
   "metadata": {
    "scrolled": true
   },
   "outputs": [],
   "source": []
  },
  {
   "cell_type": "code",
   "execution_count": null,
   "metadata": {
    "scrolled": true
   },
   "outputs": [],
   "source": []
  },
  {
   "cell_type": "code",
   "execution_count": null,
   "metadata": {
    "scrolled": true
   },
   "outputs": [],
   "source": []
  }
 ],
 "metadata": {
  "kernelspec": {
   "display_name": "Python 3",
   "language": "python",
   "name": "python3"
  },
  "language_info": {
   "codemirror_mode": {
    "name": "ipython",
    "version": 3
   },
   "file_extension": ".py",
   "mimetype": "text/x-python",
   "name": "python",
   "nbconvert_exporter": "python",
   "pygments_lexer": "ipython3",
   "version": "3.7.7"
  }
 },
 "nbformat": 4,
 "nbformat_minor": 4
}
